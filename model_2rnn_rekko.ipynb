{
 "cells": [
  {
   "cell_type": "markdown",
   "metadata": {},
   "source": [
    "# Recurrent Neural Network based Recommender System\n",
    "\n"
   ]
  },
  {
   "cell_type": "markdown",
   "metadata": {},
   "source": [
    "## Data Loading"
   ]
  },
  {
   "cell_type": "code",
   "execution_count": 1,
   "metadata": {
    "_cell_guid": "b1076dfc-b9ad-4769-8c92-a6c4dae69d19",
    "_uuid": "8f2839f25d086af736a60e9eeb907d3b93b6e0e5"
   },
   "outputs": [],
   "source": [
    "import numpy as np \n",
    "import pandas as pd"
   ]
  },
  {
   "cell_type": "code",
   "execution_count": 9,
   "metadata": {
    "_cell_guid": "79c7e3d0-c299-4dcb-8224-4455121ee9b0",
    "_uuid": "d629ff2d2480ee46fbb7e2d37f6b5fab8052498a",
    "scrolled": true
   },
   "outputs": [
    {
     "data": {
      "text/html": [
       "<div>\n",
       "<style scoped>\n",
       "    .dataframe tbody tr th:only-of-type {\n",
       "        vertical-align: middle;\n",
       "    }\n",
       "\n",
       "    .dataframe tbody tr th {\n",
       "        vertical-align: top;\n",
       "    }\n",
       "\n",
       "    .dataframe thead th {\n",
       "        text-align: right;\n",
       "    }\n",
       "</style>\n",
       "<table border=\"1\" class=\"dataframe\">\n",
       "  <thead>\n",
       "    <tr style=\"text-align: right;\">\n",
       "      <th></th>\n",
       "      <th>element_uid</th>\n",
       "      <th>user_uid</th>\n",
       "      <th>consumption_mode</th>\n",
       "      <th>ts</th>\n",
       "      <th>watched_time</th>\n",
       "      <th>device_type</th>\n",
       "      <th>device_manufacturer</th>\n",
       "    </tr>\n",
       "  </thead>\n",
       "  <tbody>\n",
       "    <tr>\n",
       "      <th>0</th>\n",
       "      <td>3336</td>\n",
       "      <td>5177</td>\n",
       "      <td>S</td>\n",
       "      <td>4.430518e+07</td>\n",
       "      <td>4282</td>\n",
       "      <td>0</td>\n",
       "      <td>50</td>\n",
       "    </tr>\n",
       "    <tr>\n",
       "      <th>1</th>\n",
       "      <td>481</td>\n",
       "      <td>593316</td>\n",
       "      <td>S</td>\n",
       "      <td>4.430518e+07</td>\n",
       "      <td>2989</td>\n",
       "      <td>0</td>\n",
       "      <td>11</td>\n",
       "    </tr>\n",
       "    <tr>\n",
       "      <th>2</th>\n",
       "      <td>4128</td>\n",
       "      <td>262355</td>\n",
       "      <td>S</td>\n",
       "      <td>4.430518e+07</td>\n",
       "      <td>833</td>\n",
       "      <td>0</td>\n",
       "      <td>50</td>\n",
       "    </tr>\n",
       "    <tr>\n",
       "      <th>3</th>\n",
       "      <td>6272</td>\n",
       "      <td>74296</td>\n",
       "      <td>S</td>\n",
       "      <td>4.430518e+07</td>\n",
       "      <td>2530</td>\n",
       "      <td>0</td>\n",
       "      <td>99</td>\n",
       "    </tr>\n",
       "    <tr>\n",
       "      <th>4</th>\n",
       "      <td>5543</td>\n",
       "      <td>340623</td>\n",
       "      <td>P</td>\n",
       "      <td>4.430518e+07</td>\n",
       "      <td>6282</td>\n",
       "      <td>0</td>\n",
       "      <td>50</td>\n",
       "    </tr>\n",
       "  </tbody>\n",
       "</table>\n",
       "</div>"
      ],
      "text/plain": [
       "   element_uid  user_uid consumption_mode            ts  watched_time  \\\n",
       "0         3336      5177                S  4.430518e+07          4282   \n",
       "1          481    593316                S  4.430518e+07          2989   \n",
       "2         4128    262355                S  4.430518e+07           833   \n",
       "3         6272     74296                S  4.430518e+07          2530   \n",
       "4         5543    340623                P  4.430518e+07          6282   \n",
       "\n",
       "   device_type  device_manufacturer  \n",
       "0            0                   50  \n",
       "1            0                   11  \n",
       "2            0                   50  \n",
       "3            0                   99  \n",
       "4            0                   50  "
      ]
     },
     "execution_count": 9,
     "metadata": {},
     "output_type": "execute_result"
    }
   ],
   "source": [
    "\n",
    "df_train = pd.read_csv('./data/transactions.csv')\n",
    "df_train.head()"
   ]
  },
  {
   "cell_type": "code",
   "execution_count": 11,
   "metadata": {},
   "outputs": [],
   "source": [
    "df_train = df_train.sort_values('ts').reset_index(drop=True)"
   ]
  },
  {
   "cell_type": "code",
   "execution_count": 23,
   "metadata": {},
   "outputs": [
    {
     "data": {
      "text/html": [
       "<div>\n",
       "<style scoped>\n",
       "    .dataframe tbody tr th:only-of-type {\n",
       "        vertical-align: middle;\n",
       "    }\n",
       "\n",
       "    .dataframe tbody tr th {\n",
       "        vertical-align: top;\n",
       "    }\n",
       "\n",
       "    .dataframe thead th {\n",
       "        text-align: right;\n",
       "    }\n",
       "</style>\n",
       "<table border=\"1\" class=\"dataframe\">\n",
       "  <thead>\n",
       "    <tr style=\"text-align: right;\">\n",
       "      <th></th>\n",
       "      <th>element_uid</th>\n",
       "      <th>user_uid</th>\n",
       "      <th>consumption_mode</th>\n",
       "      <th>ts</th>\n",
       "      <th>watched_time</th>\n",
       "      <th>device_type</th>\n",
       "      <th>device_manufacturer</th>\n",
       "      <th>categ_id</th>\n",
       "    </tr>\n",
       "  </thead>\n",
       "  <tbody>\n",
       "    <tr>\n",
       "      <th>0</th>\n",
       "      <td>6189</td>\n",
       "      <td>283774</td>\n",
       "      <td>S</td>\n",
       "      <td>4.173063e+07</td>\n",
       "      <td>19586</td>\n",
       "      <td>0</td>\n",
       "      <td>11</td>\n",
       "      <td>5022</td>\n",
       "    </tr>\n",
       "    <tr>\n",
       "      <th>1</th>\n",
       "      <td>6099</td>\n",
       "      <td>59148</td>\n",
       "      <td>S</td>\n",
       "      <td>4.173063e+07</td>\n",
       "      <td>6831</td>\n",
       "      <td>0</td>\n",
       "      <td>50</td>\n",
       "      <td>4947</td>\n",
       "    </tr>\n",
       "    <tr>\n",
       "      <th>2</th>\n",
       "      <td>8888</td>\n",
       "      <td>50431</td>\n",
       "      <td>S</td>\n",
       "      <td>4.173063e+07</td>\n",
       "      <td>5763</td>\n",
       "      <td>0</td>\n",
       "      <td>11</td>\n",
       "      <td>7222</td>\n",
       "    </tr>\n",
       "    <tr>\n",
       "      <th>3</th>\n",
       "      <td>8436</td>\n",
       "      <td>458827</td>\n",
       "      <td>S</td>\n",
       "      <td>4.173063e+07</td>\n",
       "      <td>8360</td>\n",
       "      <td>0</td>\n",
       "      <td>50</td>\n",
       "      <td>6848</td>\n",
       "    </tr>\n",
       "    <tr>\n",
       "      <th>4</th>\n",
       "      <td>2252</td>\n",
       "      <td>180823</td>\n",
       "      <td>S</td>\n",
       "      <td>4.173063e+07</td>\n",
       "      <td>2503</td>\n",
       "      <td>0</td>\n",
       "      <td>11</td>\n",
       "      <td>1808</td>\n",
       "    </tr>\n",
       "  </tbody>\n",
       "</table>\n",
       "</div>"
      ],
      "text/plain": [
       "  element_uid  user_uid consumption_mode            ts  watched_time  \\\n",
       "0        6189    283774                S  4.173063e+07         19586   \n",
       "1        6099     59148                S  4.173063e+07          6831   \n",
       "2        8888     50431                S  4.173063e+07          5763   \n",
       "3        8436    458827                S  4.173063e+07          8360   \n",
       "4        2252    180823                S  4.173063e+07          2503   \n",
       "\n",
       "   device_type  device_manufacturer  categ_id  \n",
       "0            0                   11      5022  \n",
       "1            0                   50      4947  \n",
       "2            0                   11      7222  \n",
       "3            0                   50      6848  \n",
       "4            0                   11      1808  "
      ]
     },
     "execution_count": 23,
     "metadata": {},
     "output_type": "execute_result"
    }
   ],
   "source": [
    "df_train.head()"
   ]
  },
  {
   "cell_type": "code",
   "execution_count": 13,
   "metadata": {},
   "outputs": [],
   "source": [
    "import os\n",
    "import json\n",
    "\n",
    "DATA_PATH = '.'\n",
    "with open(os.path.join(DATA_PATH, 'test_users.json'), 'r') as f:\n",
    "    test_users = set(json.load(f)['users'])"
   ]
  },
  {
   "cell_type": "markdown",
   "metadata": {},
   "source": [
    "## Data Preprocessing"
   ]
  },
  {
   "cell_type": "code",
   "execution_count": 15,
   "metadata": {},
   "outputs": [],
   "source": [
    "top_20 = df_train['element_uid'].value_counts()[:20].index.tolist()"
   ]
  },
  {
   "cell_type": "code",
   "execution_count": 16,
   "metadata": {},
   "outputs": [],
   "source": [
    "df_train.element_uid = df_train.element_uid.astype('category')\n",
    "df_train['categ_id'] = df_train.element_uid.cat.codes + 1"
   ]
  },
  {
   "cell_type": "code",
   "execution_count": 24,
   "metadata": {},
   "outputs": [
    {
     "data": {
      "text/html": [
       "<div>\n",
       "<style scoped>\n",
       "    .dataframe tbody tr th:only-of-type {\n",
       "        vertical-align: middle;\n",
       "    }\n",
       "\n",
       "    .dataframe tbody tr th {\n",
       "        vertical-align: top;\n",
       "    }\n",
       "\n",
       "    .dataframe thead th {\n",
       "        text-align: right;\n",
       "    }\n",
       "</style>\n",
       "<table border=\"1\" class=\"dataframe\">\n",
       "  <thead>\n",
       "    <tr style=\"text-align: right;\">\n",
       "      <th></th>\n",
       "      <th>element_uid</th>\n",
       "      <th>user_uid</th>\n",
       "      <th>consumption_mode</th>\n",
       "      <th>ts</th>\n",
       "      <th>watched_time</th>\n",
       "      <th>device_type</th>\n",
       "      <th>device_manufacturer</th>\n",
       "      <th>categ_id</th>\n",
       "    </tr>\n",
       "  </thead>\n",
       "  <tbody>\n",
       "    <tr>\n",
       "      <th>0</th>\n",
       "      <td>6189</td>\n",
       "      <td>283774</td>\n",
       "      <td>S</td>\n",
       "      <td>4.173063e+07</td>\n",
       "      <td>19586</td>\n",
       "      <td>0</td>\n",
       "      <td>11</td>\n",
       "      <td>5022</td>\n",
       "    </tr>\n",
       "    <tr>\n",
       "      <th>1</th>\n",
       "      <td>6099</td>\n",
       "      <td>59148</td>\n",
       "      <td>S</td>\n",
       "      <td>4.173063e+07</td>\n",
       "      <td>6831</td>\n",
       "      <td>0</td>\n",
       "      <td>50</td>\n",
       "      <td>4947</td>\n",
       "    </tr>\n",
       "    <tr>\n",
       "      <th>2</th>\n",
       "      <td>8888</td>\n",
       "      <td>50431</td>\n",
       "      <td>S</td>\n",
       "      <td>4.173063e+07</td>\n",
       "      <td>5763</td>\n",
       "      <td>0</td>\n",
       "      <td>11</td>\n",
       "      <td>7222</td>\n",
       "    </tr>\n",
       "    <tr>\n",
       "      <th>3</th>\n",
       "      <td>8436</td>\n",
       "      <td>458827</td>\n",
       "      <td>S</td>\n",
       "      <td>4.173063e+07</td>\n",
       "      <td>8360</td>\n",
       "      <td>0</td>\n",
       "      <td>50</td>\n",
       "      <td>6848</td>\n",
       "    </tr>\n",
       "    <tr>\n",
       "      <th>4</th>\n",
       "      <td>2252</td>\n",
       "      <td>180823</td>\n",
       "      <td>S</td>\n",
       "      <td>4.173063e+07</td>\n",
       "      <td>2503</td>\n",
       "      <td>0</td>\n",
       "      <td>11</td>\n",
       "      <td>1808</td>\n",
       "    </tr>\n",
       "  </tbody>\n",
       "</table>\n",
       "</div>"
      ],
      "text/plain": [
       "  element_uid  user_uid consumption_mode            ts  watched_time  \\\n",
       "0        6189    283774                S  4.173063e+07         19586   \n",
       "1        6099     59148                S  4.173063e+07          6831   \n",
       "2        8888     50431                S  4.173063e+07          5763   \n",
       "3        8436    458827                S  4.173063e+07          8360   \n",
       "4        2252    180823                S  4.173063e+07          2503   \n",
       "\n",
       "   device_type  device_manufacturer  categ_id  \n",
       "0            0                   11      5022  \n",
       "1            0                   50      4947  \n",
       "2            0                   11      7222  \n",
       "3            0                   50      6848  \n",
       "4            0                   11      1808  "
      ]
     },
     "execution_count": 24,
     "metadata": {},
     "output_type": "execute_result"
    }
   ],
   "source": [
    "df_train.head()"
   ]
  },
  {
   "cell_type": "code",
   "execution_count": 25,
   "metadata": {},
   "outputs": [],
   "source": [
    "element_uid_to_cat = dict(zip(\n",
    "    df_train.element_uid.cat.categories,\n",
    "    range(1, len(df_train.element_uid.cat.categories) + 1)\n",
    "))\n",
    "\n",
    "# Let`s define inverse transform dictionary\n",
    "cat_to_element_uid = dict(zip(\n",
    "    range(1, len(df_train.element_uid.cat.categories) + 1),\n",
    "    df_train.element_uid.cat.categories\n",
    "))\n",
    "\n",
    "# Assigning most popular film index to inverse transform of zero padding value\n",
    "cat_to_element_uid[0] = 2714"
   ]
  },
  {
   "cell_type": "code",
   "execution_count": 26,
   "metadata": {},
   "outputs": [
    {
     "name": "stderr",
     "output_type": "stream",
     "text": [
      "100%|██████████| 9643012/9643012 [00:13<00:00, 716007.56it/s]\n"
     ]
    }
   ],
   "source": [
    "import tqdm\n",
    "from collections import defaultdict\n",
    "\n",
    "filtered_elements = defaultdict(set)\n",
    "\n",
    "for user_uid, element_uid in tqdm.tqdm(df_train.loc[:, ['user_uid', 'element_uid']].values):\n",
    "    if user_uid not in test_users:\n",
    "        continue\n",
    "    filtered_elements[user_uid].add(element_uid)"
   ]
  },
  {
   "cell_type": "code",
   "execution_count": 27,
   "metadata": {},
   "outputs": [],
   "source": [
    "filtered_elements_cat = {k: [element_uid_to_cat.get(x, None) for x in v] for k, v in filtered_elements.items()}"
   ]
  },
  {
   "cell_type": "code",
   "execution_count": 30,
   "metadata": {},
   "outputs": [
    {
     "name": "stderr",
     "output_type": "stream",
     "text": [
      "100%|██████████| 499663/499663 [00:48<00:00, 10249.28it/s]\n"
     ]
    }
   ],
   "source": [
    "\n",
    "tqdm.tqdm.pandas()\n",
    "purchases = df_train.groupby('user_uid')['categ_id'].progress_apply(list)"
   ]
  },
  {
   "cell_type": "code",
   "execution_count": 31,
   "metadata": {},
   "outputs": [
    {
     "data": {
      "text/plain": [
       "user_uid\n",
       "0    [4973, 6631, 1046, 1249, 378, 5862, 6645, 1604...\n",
       "1    [1348, 3342, 1802, 6687, 5687, 4975, 4406, 563...\n",
       "2                              [617, 7127, 1535, 7480]\n",
       "3    [6904, 7127, 7113, 1125, 3818, 3407, 7562, 362...\n",
       "5                  [668, 4206, 2181, 1272, 2730, 1547]\n",
       "Name: categ_id, dtype: object"
      ]
     },
     "execution_count": 31,
     "metadata": {},
     "output_type": "execute_result"
    }
   ],
   "source": [
    "purchases.head()"
   ]
  },
  {
   "cell_type": "code",
   "execution_count": 32,
   "metadata": {},
   "outputs": [
    {
     "name": "stdout",
     "output_type": "stream",
     "text": [
      "Median: 10.0\n",
      "Mean: 19.299031547262857\n",
      "Max: 1156\n"
     ]
    }
   ],
   "source": [
    "# Some statistics\n",
    "print('Median: {}\\nMean: {}\\nMax: {}'.format(\n",
    "    purchases.apply(len).median(), purchases.apply(len).mean(), purchases.apply(len).max()))"
   ]
  },
  {
   "cell_type": "code",
   "execution_count": 33,
   "metadata": {},
   "outputs": [],
   "source": [
    "# We will use users with 5 and more wathced films\n",
    "purchases2use = purchases[purchases.apply(len) >= 5]"
   ]
  },
  {
   "cell_type": "code",
   "execution_count": 36,
   "metadata": {},
   "outputs": [
    {
     "data": {
      "text/plain": [
       "20"
      ]
     },
     "execution_count": 36,
     "metadata": {},
     "output_type": "execute_result"
    }
   ],
   "source": [
    "len(purchases2use[1])"
   ]
  },
  {
   "cell_type": "code",
   "execution_count": 38,
   "metadata": {},
   "outputs": [],
   "source": [
    "maxlen = 18\n",
    "X = []\n",
    "y = []\n",
    "\n",
    "def slice_purchase(seq, num_slices):\n",
    "    for i in range(1, num_slices):\n",
    "        X.append(seq[-(i+maxlen): -i])\n",
    "        y.append(seq[-i])\n",
    "        \n",
    "slice_purchase(purchases2use[1], 11)"
   ]
  },
  {
   "cell_type": "code",
   "execution_count": null,
   "metadata": {},
   "outputs": [],
   "source": [
    "purchases2use[1][-18: ]"
   ]
  },
  {
   "cell_type": "code",
   "execution_count": 14,
   "metadata": {},
   "outputs": [
    {
     "name": "stderr",
     "output_type": "stream",
     "text": [
      "100%|██████████| 396121/396121 [00:10<00:00, 36590.30it/s]\n"
     ]
    }
   ],
   "source": [
    "maxlen = 40 # Length of purchases in X\n",
    "X = []\n",
    "y = []\n",
    "\n",
    "def slice_purchase(seq, num_slices):\n",
    "    for i in range(1, num_slices):\n",
    "        X.append(seq[-(i+maxlen): -i])\n",
    "        y.append(seq[-i])\n",
    "        \n",
    "for seq in tqdm.tqdm(purchases2use):\n",
    "    if len(seq) <= 5:\n",
    "        slice_purchase(seq, 2)\n",
    "    elif len(seq) <= 6:\n",
    "        slice_purchase(seq, 3)\n",
    "    elif len(seq) <= 8:\n",
    "        slice_purchase(seq, 4)\n",
    "    elif len(seq) <= 12:\n",
    "        slice_purchase(seq, 6)\n",
    "    elif len(seq) <= 16:\n",
    "        slice_purchase(seq, 8)\n",
    "    elif len(seq) <= 20:\n",
    "        slice_purchase(seq, 11)\n",
    "    elif len(seq) <= 26:\n",
    "        slice_purchase(seq, 16)\n",
    "    else:\n",
    "        slice_purchase(seq, 23)"
   ]
  },
  {
   "cell_type": "code",
   "execution_count": 15,
   "metadata": {},
   "outputs": [
    {
     "data": {
      "text/plain": [
       "(3932916, 3932916)"
      ]
     },
     "execution_count": 15,
     "metadata": {},
     "output_type": "execute_result"
    }
   ],
   "source": [
    "len(X), len(y)"
   ]
  },
  {
   "cell_type": "code",
   "execution_count": 16,
   "metadata": {},
   "outputs": [
    {
     "data": {
      "text/plain": [
       "(18, 4, 14.428601577048683, 18.0)"
      ]
     },
     "execution_count": 16,
     "metadata": {},
     "output_type": "execute_result"
    }
   ],
   "source": [
    "lens = [len(x) for x in X]\n",
    "max(lens), min(lens), np.mean(lens), np.median(lens)"
   ]
  },
  {
   "cell_type": "code",
   "execution_count": 17,
   "metadata": {},
   "outputs": [
    {
     "name": "stderr",
     "output_type": "stream",
     "text": [
      "Using TensorFlow backend.\n"
     ]
    },
    {
     "data": {
      "text/plain": [
       "((3932916, 18), (3932916,))"
      ]
     },
     "execution_count": 17,
     "metadata": {},
     "output_type": "execute_result"
    }
   ],
   "source": [
    "from keras.preprocessing.sequence import pad_sequences\n",
    "\n",
    "# We should pad our sequences with 0 values, so they all will have the same length\n",
    "X = pad_sequences(X, maxlen=maxlen)\n",
    "y = np.array(y)\n",
    "X.shape, y.shape"
   ]
  },
  {
   "cell_type": "markdown",
   "metadata": {},
   "source": [
    "## Let's define the model architecture"
   ]
  },
  {
   "cell_type": "code",
   "execution_count": 18,
   "metadata": {},
   "outputs": [],
   "source": [
    "from keras.layers import Input, Embedding, SpatialDropout1D, CuDNNLSTM, Dropout, Dense\n",
    "from keras.models import Model\n",
    "\n",
    "# Let's set random seed\n",
    "import tensorflow as tf\n",
    "tf.set_random_seed(42)\n",
    "np.random.seed(42)"
   ]
  },
  {
   "cell_type": "code",
   "execution_count": 19,
   "metadata": {},
   "outputs": [
    {
     "data": {
      "text/plain": [
       "8297"
      ]
     },
     "execution_count": 19,
     "metadata": {},
     "output_type": "execute_result"
    }
   ],
   "source": [
    "df_train.categ_id.unique().size + 1"
   ]
  },
  {
   "cell_type": "code",
   "execution_count": 20,
   "metadata": {},
   "outputs": [],
   "source": [
    "max_features = df_train.categ_id.unique().size + 1\n",
    "embed_size = 64\n",
    "\n",
    "def lstm128():\n",
    "    inp = Input(shape=(maxlen,))\n",
    "    x = Embedding(max_features, embed_size)(inp)\n",
    "    x = SpatialDropout1D(0.05)(x)\n",
    "    x = CuDNNLSTM(128, return_purchases=False)(x)\n",
    "    x = Dropout(0.02)(x)\n",
    "    outp = Dense(max_features, activation=\"softmax\")(x)\n",
    "    model = Model(inputs=inp, outputs=outp)\n",
    "    model.compile(loss='sparse_categorical_crossentropy', optimizer='rmsprop',\n",
    "                  metrics=['sparse_categorical_accuracy'])\n",
    "    return model"
   ]
  },
  {
   "cell_type": "code",
   "execution_count": null,
   "metadata": {},
   "outputs": [],
   "source": [
    "# Let's train our film recommender system\n",
    "model = lstm128()\n",
    "model.fit(X, y, batch_size=2048*4, epochs=25, verbose=True, validation_split=0.01, shuffle=True)"
   ]
  },
  {
   "cell_type": "markdown",
   "metadata": {},
   "source": [
    "## Prediction"
   ]
  },
  {
   "cell_type": "code",
   "execution_count": 23,
   "metadata": {},
   "outputs": [],
   "source": [
    "purchases_test = purchases.apply(lambda x: x[-maxlen:])\n",
    "purchases_test = purchases_test.apply(lambda x: [0 for i in range(maxlen - len(x))] + x)"
   ]
  },
  {
   "cell_type": "code",
   "execution_count": 24,
   "metadata": {},
   "outputs": [],
   "source": [
    "test_users_in_purchases = sorted(test_users & set(purchases_test.index))"
   ]
  },
  {
   "cell_type": "code",
   "execution_count": 25,
   "metadata": {},
   "outputs": [],
   "source": [
    "X_test = np.array(purchases_test[test_users_in_purchases].tolist())"
   ]
  },
  {
   "cell_type": "code",
   "execution_count": null,
   "metadata": {},
   "outputs": [],
   "source": [
    "result = {}\n",
    "\n",
    "for user_uid, x in tqdm.tqdm(zip(test_users_in_purchases, X_test), total=len(test_users_in_purchases)):\n",
    "    curr_preds = model.predict(np.array([x]))[0]\n",
    "    curr_preds[list(filtered_elements_cat[user_uid])] = 0\n",
    "    curr_preds = np.argsort(-curr_preds)[:20]\n",
    "    curr_preds = [cat_to_element_uid[x] for x in curr_preds]\n",
    "    \n",
    "    # drop scores and transform model's internal elelemnt category to element_uid for every prediction\n",
    "    # also convert np.uint64 to int so it could be json serialized later\n",
    "    result[user_uid] = [int(p) for p in curr_preds]"
   ]
  },
  {
   "cell_type": "code",
   "execution_count": null,
   "metadata": {},
   "outputs": [],
   "source": [
    "for test_user in list(test_users):\n",
    "    if test_user in result.keys():\n",
    "        continue\n",
    "    else:\n",
    "        result[test_user] = top_20"
   ]
  },
  {
   "cell_type": "code",
   "execution_count": null,
   "metadata": {},
   "outputs": [],
   "source": [
    "with open('answer.json', 'w') as f:\n",
    "    json.dump(result, f)\n",
    "    \n",
    "len(result)"
   ]
  },
  {
   "cell_type": "code",
   "execution_count": 28,
   "metadata": {},
   "outputs": [],
   "source": []
  }
 ],
 "metadata": {
  "kernelspec": {
   "display_name": "Python 3",
   "language": "python",
   "name": "python3"
  },
  "language_info": {
   "codemirror_mode": {
    "name": "ipython",
    "version": 3
   },
   "file_extension": ".py",
   "mimetype": "text/x-python",
   "name": "python",
   "nbconvert_exporter": "python",
   "pygments_lexer": "ipython3",
   "version": "3.7.3"
  }
 },
 "nbformat": 4,
 "nbformat_minor": 1
}
