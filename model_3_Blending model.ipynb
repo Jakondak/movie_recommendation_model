{
 "cells": [
  {
   "cell_type": "code",
   "execution_count": 3,
   "metadata": {},
   "outputs": [],
   "source": [
    "import pandas as pd\n",
    "import numpy as np\n",
    "import os\n",
    "import json"
   ]
  },
  {
   "cell_type": "code",
   "execution_count": 6,
   "metadata": {},
   "outputs": [],
   "source": [
    "DATA_PATH = './'\n",
    "\n",
    "with open(os.path.join(DATA_PATH, 'answer_13.json'), 'r') as f:\n",
    "    catalogue = json.load(f)\n",
    "    \n",
    "answer1 = {int(k): v for k, v in catalogue.items()}"
   ]
  },
  {
   "cell_type": "code",
   "execution_count": 7,
   "metadata": {},
   "outputs": [],
   "source": [
    "with open(os.path.join(DATA_PATH, 'interaction_result.json'), 'r') as f:\n",
    "    catalogue = json.load(f)\n",
    "    \n",
    "answer2 = {int(k): v for k, v in catalogue.items()}"
   ]
  },
  {
   "cell_type": "code",
   "execution_count": 12,
   "metadata": {},
   "outputs": [],
   "source": [
    "import operator\n",
    "\n",
    "from collections import OrderedDict\n",
    "\n",
    "final_json = {}\n",
    "\n",
    "for key in answer1.keys():\n",
    "    answer = {}\n",
    "    for element in answer1[key]:\n",
    "        if element in answer2[key]:\n",
    "            answer[(answer1[key].index(element) + answer1[key].index(element)) / 2] = element\n",
    "        else:\n",
    "            answer[answer1[key].index(element)] = element\n",
    "        \n",
    "    for element in set(answer2[key]).difference(set(answer1[key])):\n",
    "        answer[answer2[key].index(element)] = element\n",
    "\n",
    "\n",
    "    final_answer = []\n",
    "\n",
    "    for i in sorted(answer.items(), key=operator.itemgetter(0), reverse=False):\n",
    "        final_answer.append(i[1])\n",
    "\n",
    "    final_json[key] = final_answer"
   ]
  },
  {
   "cell_type": "code",
   "execution_count": 14,
   "metadata": {},
   "outputs": [
    {
     "data": {
      "text/plain": [
       "50000"
      ]
     },
     "execution_count": 14,
     "metadata": {},
     "output_type": "execute_result"
    }
   ],
   "source": [
    "len(final_json.keys())"
   ]
  },
  {
   "cell_type": "code",
   "execution_count": 15,
   "metadata": {},
   "outputs": [],
   "source": [
    "with open('answer_20.json', 'w') as f:\n",
    "    json.dump(final_json, f)"
   ]
  },
  {
   "cell_type": "code",
   "execution_count": null,
   "metadata": {},
   "outputs": [],
   "source": []
  }
 ],
 "metadata": {
  "kernelspec": {
   "display_name": "Python 3",
   "language": "python",
   "name": "python3"
  },
  "language_info": {
   "codemirror_mode": {
    "name": "ipython",
    "version": 3
   },
   "file_extension": ".py",
   "mimetype": "text/x-python",
   "name": "python",
   "nbconvert_exporter": "python",
   "pygments_lexer": "ipython3",
   "version": "3.7.3"
  }
 },
 "nbformat": 4,
 "nbformat_minor": 2
}
